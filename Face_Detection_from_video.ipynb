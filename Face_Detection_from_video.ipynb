{
 "cells": [
  {
   "cell_type": "code",
   "execution_count": null,
   "id": "ec7c8f1b-68f9-4293-a0f0-008cdf74efdd",
   "metadata": {},
   "outputs": [],
   "source": [
    "!pip install --user -r requirements.txt"
   ]
  },
  {
   "cell_type": "code",
   "execution_count": null,
   "id": "37276082-25a5-4a47-8b78-65223eebb169",
   "metadata": {},
   "outputs": [],
   "source": [
    "from imutils import paths\n",
    "import face_recognition\n",
    "import argparse\n",
    "import pickle\n",
    "import cv2\n",
    "import os"
   ]
  },
  {
   "cell_type": "code",
   "execution_count": null,
   "id": "9681aee4-4d00-4a0c-8cbf-7778f9628174",
   "metadata": {
    "jupyter": {
     "source_hidden": true
    },
    "tags": []
   },
   "outputs": [],
   "source": [
    "# # Test initial webcam connection\n",
    "\n",
    "# cv2.namedWindow(\"preview\")\n",
    "# vc = cv2.VideoCapture(0)\n",
    "\n",
    "# if vc.isOpened(): # try to get the first frame\n",
    "#     rval, frame = vc.read()\n",
    "# else:\n",
    "#     rval = False\n",
    "\n",
    "# while rval:\n",
    "#     cv2.imshow(\"preview\", frame)\n",
    "#     rval, frame = vc.read()\n",
    "#     key = cv2.waitKey(20)\n",
    "#     if key == 27: # exit on ESC\n",
    "#         break\n",
    "\n",
    "# cv2.destroyWindow(\"preview\")\n",
    "# vc.release()"
   ]
  },
  {
   "cell_type": "code",
   "execution_count": null,
   "id": "f99cb41a-2a87-4202-be9f-617e57cab9af",
   "metadata": {
    "jupyter": {
     "source_hidden": true
    },
    "tags": []
   },
   "outputs": [],
   "source": [
    "# ## test Facial Detection\n",
    "\n",
    "# # Get a reference to webcam \n",
    "# video_capture = cv2.VideoCapture(0)\n",
    "\n",
    "# # Initialize variables\n",
    "# face_locations = []\n",
    "\n",
    "# while True:\n",
    "#     # Grab a single frame of video\n",
    "#     ret, frame = video_capture.read()\n",
    "\n",
    "#     # Convert the image from BGR color (which OpenCV uses) to RGB color (which face_recognition uses)\n",
    "#     rgb_frame = frame[:, :, ::-1]\n",
    "\n",
    "#     # Find all the faces in the current frame of video\n",
    "#     face_locations = face_recognition.face_locations(rgb_frame)\n",
    "\n",
    "#     # Display the results\n",
    "#     for top, right, bottom, left in face_locations:\n",
    "#         # Draw a box around the face\n",
    "#         cv2.rectangle(frame, (left, top), (right, bottom), (0, 0, 255), 2)\n",
    "\n",
    "#     # Display the resulting image\n",
    "#     cv2.imshow('Video', frame)\n",
    "\n",
    "#     # Hit 'q' on the keyboard to quit!\n",
    "#     if cv2.waitKey(1) & 0xFF == ord('q'):\n",
    "#         break\n",
    "\n",
    "# # Release handle to the webcam\n",
    "# video_capture.release()\n",
    "# cv2.destroyAllWindows()"
   ]
  },
  {
   "cell_type": "code",
   "execution_count": null,
   "id": "48503963-b4ed-4a8c-810f-d7dbcf2d1858",
   "metadata": {},
   "outputs": [],
   "source": [
    "# Modify Code for Video Stream image capture\n",
    "\n",
    "KNOWN_FACES_DIR = 'dataset/Known_faces'\n",
    "TOLERANCE = 0.55 # Lower == More Strict\n",
    "FRAME_THICKNESS = 3\n",
    "FONT_THICKNESS = 1\n",
    "MODEL = 'cnn'  # 'hog' or 'cnn' - CUDA accelerated (if available) deep-learning pretrained model\n",
    "\n",
    "video = cv2.VideoCapture(\"videos/recordings/Original_video_for_demo.mp4\") # put filename here also\n",
    "\n",
    "known_faces = []\n",
    "known_names = []"
   ]
  },
  {
   "cell_type": "code",
   "execution_count": null,
   "id": "a670ce1d-3468-4e67-a8fd-1c46543d26fb",
   "metadata": {},
   "outputs": [],
   "source": [
    "# Returns (R, G, B) from name\n",
    "def name_to_color(name):\n",
    "    # Take 3 first letters, tolower()\n",
    "    # lowercased character ord() value rage is 97 to 122, substract 97, multiply by 8\n",
    "    color = [((ord(c.lower())-97)*8) +10 for c in name[:3]]\n",
    "    return color"
   ]
  },
  {
   "cell_type": "code",
   "execution_count": null,
   "id": "e2e28883-ff82-4b32-8d55-0ab2fee3ceb1",
   "metadata": {
    "tags": []
   },
   "outputs": [],
   "source": [
    "# Evaluate and Encode Known Faces as base for comparison\n",
    "print('Loading known faces...')\n",
    "for name in os.listdir(KNOWN_FACES_DIR):\n",
    "    # Next we load every file of faces of known person\n",
    "    for filename in os.listdir(f'{KNOWN_FACES_DIR}/{name}'):\n",
    "        # Load an image\n",
    "        image = face_recognition.load_image_file(f'{KNOWN_FACES_DIR}/{name}/{filename}')\n",
    "        # Get 128-dimension face encoding\n",
    "        # face_recognition always returns a list of found faces, for this purpose we take first face only\n",
    "        # (assuming one face per image in Known_faces as a single person can't appear twice in one image)\n",
    "        encoding = face_recognition.face_encodings(image)[0]\n",
    "        # Append encodings and name\n",
    "        known_faces.append(encoding)\n",
    "        known_names.append(name)"
   ]
  },
  {
   "cell_type": "code",
   "execution_count": null,
   "id": "42670f8d-6699-4724-a679-4b29ab99f79c",
   "metadata": {
    "tags": []
   },
   "outputs": [],
   "source": [
    "# Execution loop for fetching and processing video data\n",
    "print('Processing unknown faces in video feed...')\n",
    "while True:\n",
    " \n",
    "    ret, image = video.read() # Grab video frames\n",
    "    image = cv2.cvtColor(image, cv2.COLOR_RGB2BGR) # convert it from RGB to BGR as we are going to work with cv2\n",
    "    locations = face_recognition.face_locations(image, model=MODEL) #grab face locations - we'll need them to draw boxes\n",
    "    encodings = face_recognition.face_encodings(image, locations) # Pass face locations to be encoded so that model does not need to search again\n",
    "    image = cv2.cvtColor(image, cv2.COLOR_BGR2RGB) # convert it from BGR to RGB to return original image colouring\n",
    "    # We assume that there might be more faces in an image - let's find the faces of different people\n",
    "    for face_encoding, face_location in zip(encodings, locations): \n",
    "\n",
    "        # We use compare_faces (but can use face_distance for distance-score measurement as well)\n",
    "        results = face_recognition.compare_faces(known_faces, face_encoding, TOLERANCE) # Returns array of True/False values in order of passed known_faces\n",
    "        \n",
    "        # Order is preserved, so we check if any face was found then grab its index, then label (name) of first matching known face withing a tolerance\n",
    "        match = None\n",
    "        if True in results:  # If at least one is true, get a name of first of found labels\n",
    "            match = known_names[results.index(True)]\n",
    "            # print(f' - {match} from {results}')\n",
    "            # Each location contains positions in order: top, right, bottom, left\n",
    "            top_left = (face_location[3], face_location[0])\n",
    "            bottom_right = (face_location[1], face_location[2])\n",
    "            # Get color by name using our fancy function\n",
    "            color = name_to_color(match)\n",
    "            # Paint frame\n",
    "            cv2.rectangle(image, top_left, bottom_right, color, FRAME_THICKNESS)\n",
    "            # Create a smaller, filled frame below for a name\n",
    "            top_left = (face_location[3], face_location[2])\n",
    "            bottom_right = (face_location[1], face_location[2] + 22) # This time we use bottom in both corners - to start from bottom and move 50 pixels down\n",
    "            # Paint frame\n",
    "            cv2.rectangle(image, top_left, bottom_right, color, cv2.FILLED)\n",
    "            # Wite a name\n",
    "            cv2.putText(image, match, (face_location[3] + 10, face_location[2] + 15), cv2.FONT_HERSHEY_SIMPLEX, 0.5, (0, 0, 255), FONT_THICKNESS)\n",
    "\n",
    "    # Display video in real-time\n",
    "    cv2.imshow(filename, image)\n",
    "    if cv2.waitKey(1) & 0xFF == ord('q'):\n",
    "        break\n",
    "video.release() # Release Webcam Handle\n",
    "cv2.destroyAllWindows() # close all windows upon code termination"
   ]
  }
 ],
 "metadata": {
  "kernelspec": {
   "display_name": "face_env",
   "language": "python",
   "name": "face_env"
  },
  "language_info": {
   "codemirror_mode": {
    "name": "ipython",
    "version": 3
   },
   "file_extension": ".py",
   "mimetype": "text/x-python",
   "name": "python",
   "nbconvert_exporter": "python",
   "pygments_lexer": "ipython3",
   "version": "3.8.8"
  }
 },
 "nbformat": 4,
 "nbformat_minor": 5
}
